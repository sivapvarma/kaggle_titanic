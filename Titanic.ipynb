{
 "cells": [
  {
   "cell_type": "code",
   "execution_count": 13,
   "metadata": {
    "collapsed": false
   },
   "outputs": [],
   "source": [
    "import matplotlib.pyplot as plt\n",
    "%matplotlib inline\n",
    "import numpy as np\n",
    "import pandas as pd\n",
    "import csv as csv\n",
    "\n",
    "# import decision tree from scikit-learn\n",
    "import sklearn.tree as tree\n",
    "import sklearn.ensemble as ske"
   ]
  },
  {
   "cell_type": "code",
   "execution_count": 20,
   "metadata": {
    "collapsed": false
   },
   "outputs": [],
   "source": [
    "# data frame containing training data\n",
    "train_df = pd.read_csv('data/train.csv')\n",
    "\n",
    "# Female = 0, Male = 0\n",
    "train_df['Sex'] = train_df['Sex'].map({'female':0, 'male':1}\n",
    "                                     ).astype(int)\n",
    "\n",
    "# missing ports -> embark them from most common ports\n",
    "mode_port = train_df['Embarked'].dropna().mode().values\n",
    "if len(train_df.loc[ (train_df.Embarked.isnull()), 'Embarked']) > 0:\n",
    "    train_df.loc[ (train_df.Embarked.isnull()), 'Embarked'] = mode_port\n",
    "\n",
    "\n",
    "# missing ages -> median ages\n",
    "median_age = train_df.Age.dropna().median()\n",
    "if len(train_df.loc[ (train_df.Age.isnull()), 'Age']) > 0:\n",
    "    train_df.loc[ (train_df.Age.isnull()), 'Age'] = median_age\n",
    "\n",
    "\n",
    "# missing fare -> median corresponding to that class\n",
    "if len(train_df.loc[(train_df.Fare.isnull()), 'Fare']) > 0:\n",
    "    median_fare = np.zeros(3)\n",
    "    for f in range(3):\n",
    "        median_fare[f] = train_df.loc[(train_df.Pclass == f+1),\n",
    "                                     'Fare'].dropna().median()\n",
    "    for f in range(3):\n",
    "        train_df.loc[(train_df.Fare.isnull()) & (train_df.Pclass == f+1 ),\n",
    "                    'Fare'] = median_fare[f]\n",
    "\n",
    "# Embarked from 'C', 'Q', 'S'\n",
    "# this is not ideal: in translating categories to numbers,\n",
    "# Port \"2\" is not 2 times greater than Port \"1\", etc.\n",
    "# determine all values of Embarked\n",
    "ports = list(enumerate(np.unique(train_df['Embarked'])))\n",
    "# set up a Dict of form Port: index\n",
    "ports_map = {port: i for i, port in ports}\n",
    "# convert all embarked from string to int\n",
    "train_df.Embarked = train_df.Embarked.map( lambda x:\n",
    "                            ports_map[x]).astype(int)\n",
    "\n",
    "# This should get us very clean data\n",
    "# train_df # uncomment this line to see dataframe"
   ]
  },
  {
   "cell_type": "code",
   "execution_count": 21,
   "metadata": {
    "collapsed": false
   },
   "outputs": [],
   "source": [
    "# Test data\n",
    "test_df = pd.read_csv('data/test.csv', header=0)\n",
    "\n",
    "# ids required for final reporting\n",
    "test_ids = test_df['PassengerId'].values\n",
    "\n",
    "# Female = 0, Male = 0\n",
    "test_df['Sex'] = test_df['Sex'].map({'female':0, 'male':1}\n",
    "                                     ).astype(int)\n",
    "\n",
    "# missing ports -> most common ports\n",
    "mode_port = test_df['Embarked'].dropna().mode().values\n",
    "if len(test_df.loc[ (test_df.Embarked.isnull()), 'Embarked']) > 0:\n",
    "    test_df.loc[ (test_df.Embarked.isnull()), 'Embarked'] = mode_port\n",
    "# convert all embarked from string to int\n",
    "test_df.Embarked = test_df.Embarked.map( lambda x:\n",
    "                            ports_map[x]).astype(int)\n",
    "\n",
    "\n",
    "# missing ages -> median ages\n",
    "median_age = test_df.Age.dropna().median()\n",
    "if len(test_df.loc[ (test_df.Age.isnull()), 'Age']) > 0:\n",
    "    test_df.loc[ (test_df.Age.isnull()), 'Age'] = median_age\n",
    "\n",
    "\n",
    "# missing fare -> median corresponding to that class\n",
    "if len(test_df.loc[(test_df.Fare.isnull()), 'Fare']) > 0:\n",
    "    median_fare = np.zeros(3)\n",
    "    for f in range(3):\n",
    "        median_fare[f] = test_df.loc[(test_df.Pclass == f+1),\n",
    "                                     'Fare'].dropna().median()\n",
    "    for f in range(3):\n",
    "        test_df.loc[(test_df.Fare.isnull()) & (test_df.Pclass == f+1 ),\n",
    "                    'Fare'] = median_fare[f]\n",
    "\n",
    "        \n",
    "# that should clean up test data\n",
    "# test_df # uncomment this line to see the dataframe"
   ]
  },
  {
   "cell_type": "code",
   "execution_count": 22,
   "metadata": {
    "collapsed": false
   },
   "outputs": [
    {
     "name": "stdout",
     "output_type": "stream",
     "text": [
      "891 training examples\n"
     ]
    }
   ],
   "source": [
    "# Clean up the dataset\n",
    "\n",
    "# features to drop\n",
    "feat_drop = ['Name', 'Ticket', 'Cabin', 'PassengerId']\n",
    "train_df = train_df.drop(feat_drop, axis=1)\n",
    "# Now drop the rows that have missing data.\n",
    "train_df = train_df.dropna()\n",
    "\n",
    "# We are not using the following features so drop them\n",
    "test_df = test_df.drop(feat_drop, axis=1)\n",
    "\n",
    "# training dataset\n",
    "train_data = train_df.values\n",
    "X_train = train_data[:, 1:]\n",
    "Y_train = train_data[:, 0]\n",
    "\n",
    "# test data\n",
    "X_test = test_df.values"
   ]
  },
  {
   "cell_type": "code",
   "execution_count": 24,
   "metadata": {
    "collapsed": false
   },
   "outputs": [
    {
     "name": "stdout",
     "output_type": "stream",
     "text": [
      "891 training examples\n",
      "7 features\n"
     ]
    }
   ],
   "source": [
    "# Print information regarding training set size and features\n",
    "print('{} training examples'.format(X_train.shape[0]))\n",
    "print('{} features'.format(X_train.shape[1]))"
   ]
  },
  {
   "cell_type": "code",
   "execution_count": 18,
   "metadata": {
    "collapsed": false
   },
   "outputs": [],
   "source": [
    "# Decision Tree Classifier\n",
    "# Training\n",
    "dt_clf = tree.DecisionTreeClassifier()\n",
    "dt_clf = dt_clf.fit(X_train, Y_train)\n",
    "\n",
    "# getting predictions on test data\n",
    "output = dt_clf.predict(X_test).astype(int)\n",
    "\n",
    "# store the output in a file\n",
    "with open('results/sub_decisiontree.csv', 'w') as f:\n",
    "    cw = csv.writer(f)\n",
    "    cw.writerow([\"PassengerId\", \"Survived\"])\n",
    "    cw.writerows(zip(test_ids, output))"
   ]
  },
  {
   "cell_type": "code",
   "execution_count": 25,
   "metadata": {
    "collapsed": false
   },
   "outputs": [],
   "source": [
    "# Random forest\n",
    "rnd_frst_clf = ske.RandomForestClassifier(n_estimators=100)\n",
    "rnd_frst_clf = rnd_frst_clf.fit(X_train, Y_train)\n",
    "\n",
    "# getting predictions on test data\n",
    "output = rnd_frst_clf.predict(X_test).astype(int)\n",
    "\n",
    "# store the output in a file\n",
    "with open('results/sub_randomforest.csv', 'w') as f:\n",
    "    cw = csv.writer(f)\n",
    "    cw.writerow([\"PassengerId\", \"Survived\"])\n",
    "    cw.writerows(zip(test_ids, output))"
   ]
  },
  {
   "cell_type": "code",
   "execution_count": null,
   "metadata": {
    "collapsed": false
   },
   "outputs": [],
   "source": []
  },
  {
   "cell_type": "code",
   "execution_count": null,
   "metadata": {
    "collapsed": false
   },
   "outputs": [],
   "source": []
  },
  {
   "cell_type": "code",
   "execution_count": null,
   "metadata": {
    "collapsed": true
   },
   "outputs": [],
   "source": []
  }
 ],
 "metadata": {
  "kernelspec": {
   "display_name": "Python 3",
   "language": "python",
   "name": "python3"
  },
  "language_info": {
   "codemirror_mode": {
    "name": "ipython",
    "version": 3
   },
   "file_extension": ".py",
   "mimetype": "text/x-python",
   "name": "python",
   "nbconvert_exporter": "python",
   "pygments_lexer": "ipython3",
   "version": "3.5.1"
  }
 },
 "nbformat": 4,
 "nbformat_minor": 0
}
